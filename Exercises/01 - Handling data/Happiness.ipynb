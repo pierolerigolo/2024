{
 "cells": [
  {
   "cell_type": "markdown",
   "metadata": {},
   "source": [
    "## Data from World Happiness Report\n",
    "\n",
    "The World Happiness Report is an annual publication of the United Nations Sustainable Development Solutions Network. It contains articles, and rankings of national happiness based on respondent ratings of their own lives, which the report also correlates with various life factors.\n",
    "\n",
    "In this notebook we will explore the happiness of different countries and the features associated.\n",
    "The datasets that we will use are available in *Data*: **happiness2020.pkl** and **countries_info.csv**.\n",
    "\n",
    "Although the features are self-explanatory, here a summary: \n",
    "\n",
    "**happiness2020.pkl**\n",
    "* country: *Name of the country*\n",
    "* happiness_score: *Happiness score*\n",
    "* social_support: *Social support (mitigation the effects of inequality)*\n",
    "* healthy_life_expectancy: *Healthy Life Expectancy*\n",
    "* freedom_of_choices: *Freedom to make life choices*\n",
    "* generosity: *Generosity (charity, volunteers)*\n",
    "* perception_of_corruption: *Corruption Perception*\n",
    "* world_region: *Area of the world of the country*\n",
    "\n",
    "**countries_info.csv**\n",
    "* country_name: *Name of the country*\n",
    "* area: *Area in sq mi*\n",
    "* population: *Number of people*\n",
    "* literacy: *Literacy percentage*"
   ]
  },
  {
   "cell_type": "code",
   "execution_count": 2,
   "metadata": {},
   "outputs": [
    {
     "name": "stdout",
     "output_type": "stream",
     "text": [
      "country_name,area,population,literacy\n",
      "afghanistan,647500,31056997,\"36,0\"\n",
      "albania,28748,3581655,\"86,5\"\n",
      "algeria,2381740,32930091,\"70,0\"\n",
      "argentina,2766890,39921833,\"97,1\"\n",
      "armenia,29800,2976372,\"98,6\"\n",
      "australia,7686850,20264082,\"100,0\"\n",
      "austria,83870,8192880,\"98,0\"\n",
      "azerbaijan,86600,7961619,\"97,0\"\n",
      "bahrain,665,698585,\"89,1\"\n"
     ]
    }
   ],
   "source": [
    "!head Data/countries_info.csv"
   ]
  },
  {
   "cell_type": "code",
   "execution_count": 3,
   "metadata": {},
   "outputs": [],
   "source": [
    "import pandas as pd\n",
    "%matplotlib inline\n",
    "\n",
    "DATA_FOLDER = 'Data/'\n",
    "\n",
    "HAPPINESS_DATASET = DATA_FOLDER+\"happiness2020.csv\"\n",
    "COUNTRIES_DATASET = DATA_FOLDER+\"countries_info.csv\""
   ]
  },
  {
   "cell_type": "markdown",
   "metadata": {},
   "source": [
    "## Task 1: Load the data\n",
    "\n",
    "Load the 2 datasets in Pandas dataframes (called *happiness* and *countries*), and show the first rows.\n",
    "\n",
    "\n",
    "**Hint**: Use the correct reader and verify the data has the expected format."
   ]
  },
  {
   "cell_type": "code",
   "execution_count": 4,
   "metadata": {},
   "outputs": [
    {
     "name": "stdout",
     "output_type": "stream",
     "text": [
      "       country  happiness_score  social_support  healthy_life_expectancy  \\\n",
      "0  Afghanistan           2.5669        0.470367                52.590000   \n",
      "1      Albania           4.8827        0.671070                68.708138   \n",
      "2      Algeria           5.0051        0.803385                65.905174   \n",
      "3    Argentina           5.9747        0.900568                68.803802   \n",
      "4      Armenia           4.6768        0.757479                66.750656   \n",
      "\n",
      "   freedom_of_choices  generosity  perception_of_corruption  \\\n",
      "0            0.396573   -0.096429                  0.933687   \n",
      "1            0.781994   -0.042309                  0.896304   \n",
      "2            0.466611   -0.121105                  0.735485   \n",
      "3            0.831132   -0.194914                  0.842010   \n",
      "4            0.712018   -0.138780                  0.773545   \n",
      "\n",
      "                         world_region  \n",
      "0                          South Asia  \n",
      "1          Central and Eastern Europe  \n",
      "2        Middle East and North Africa  \n",
      "3         Latin America and Caribbean  \n",
      "4  Commonwealth of Independent States  \n",
      "  country_name     area  population literacy\n",
      "0  afghanistan   647500    31056997     36,0\n",
      "1      albania    28748     3581655     86,5\n",
      "2      algeria  2381740    32930091     70,0\n",
      "3    argentina  2766890    39921833     97,1\n",
      "4      armenia    29800     2976372     98,6\n"
     ]
    }
   ],
   "source": [
    "# load the data\n",
    "happiness = pd.read_csv(HAPPINESS_DATASET)\n",
    "countries = pd.read_csv(COUNTRIES_DATASET)\n",
    "\n",
    "print(happiness.head())\n",
    "print(countries.head())"
   ]
  },
  {
   "cell_type": "markdown",
   "metadata": {},
   "source": [
    "## Task 2: Let's merge the data\n",
    "\n",
    "Create a dataframe called *country_features* by merging *happiness* and *countries*. A row of this dataframe must describe all the features that we have about a country.\n",
    "\n",
    "**Hint**: Verify that all the rows are in the final dataframe."
   ]
  },
  {
   "cell_type": "code",
   "execution_count": 5,
   "metadata": {},
   "outputs": [
    {
     "data": {
      "text/html": [
       "<div>\n",
       "<style scoped>\n",
       "    .dataframe tbody tr th:only-of-type {\n",
       "        vertical-align: middle;\n",
       "    }\n",
       "\n",
       "    .dataframe tbody tr th {\n",
       "        vertical-align: top;\n",
       "    }\n",
       "\n",
       "    .dataframe thead th {\n",
       "        text-align: right;\n",
       "    }\n",
       "</style>\n",
       "<table border=\"1\" class=\"dataframe\">\n",
       "  <thead>\n",
       "    <tr style=\"text-align: right;\">\n",
       "      <th></th>\n",
       "      <th>country_name</th>\n",
       "      <th>area</th>\n",
       "      <th>population</th>\n",
       "      <th>literacy</th>\n",
       "      <th>country</th>\n",
       "      <th>happiness_score</th>\n",
       "      <th>social_support</th>\n",
       "      <th>healthy_life_expectancy</th>\n",
       "      <th>freedom_of_choices</th>\n",
       "      <th>generosity</th>\n",
       "      <th>perception_of_corruption</th>\n",
       "      <th>world_region</th>\n",
       "    </tr>\n",
       "  </thead>\n",
       "  <tbody>\n",
       "    <tr>\n",
       "      <th>0</th>\n",
       "      <td>afghanistan</td>\n",
       "      <td>647500</td>\n",
       "      <td>31056997</td>\n",
       "      <td>36,0</td>\n",
       "      <td>afghanistan</td>\n",
       "      <td>2.5669</td>\n",
       "      <td>0.470367</td>\n",
       "      <td>52.590000</td>\n",
       "      <td>0.396573</td>\n",
       "      <td>-0.096429</td>\n",
       "      <td>0.933687</td>\n",
       "      <td>South Asia</td>\n",
       "    </tr>\n",
       "    <tr>\n",
       "      <th>1</th>\n",
       "      <td>albania</td>\n",
       "      <td>28748</td>\n",
       "      <td>3581655</td>\n",
       "      <td>86,5</td>\n",
       "      <td>albania</td>\n",
       "      <td>4.8827</td>\n",
       "      <td>0.671070</td>\n",
       "      <td>68.708138</td>\n",
       "      <td>0.781994</td>\n",
       "      <td>-0.042309</td>\n",
       "      <td>0.896304</td>\n",
       "      <td>Central and Eastern Europe</td>\n",
       "    </tr>\n",
       "    <tr>\n",
       "      <th>2</th>\n",
       "      <td>algeria</td>\n",
       "      <td>2381740</td>\n",
       "      <td>32930091</td>\n",
       "      <td>70,0</td>\n",
       "      <td>algeria</td>\n",
       "      <td>5.0051</td>\n",
       "      <td>0.803385</td>\n",
       "      <td>65.905174</td>\n",
       "      <td>0.466611</td>\n",
       "      <td>-0.121105</td>\n",
       "      <td>0.735485</td>\n",
       "      <td>Middle East and North Africa</td>\n",
       "    </tr>\n",
       "    <tr>\n",
       "      <th>3</th>\n",
       "      <td>argentina</td>\n",
       "      <td>2766890</td>\n",
       "      <td>39921833</td>\n",
       "      <td>97,1</td>\n",
       "      <td>argentina</td>\n",
       "      <td>5.9747</td>\n",
       "      <td>0.900568</td>\n",
       "      <td>68.803802</td>\n",
       "      <td>0.831132</td>\n",
       "      <td>-0.194914</td>\n",
       "      <td>0.842010</td>\n",
       "      <td>Latin America and Caribbean</td>\n",
       "    </tr>\n",
       "    <tr>\n",
       "      <th>4</th>\n",
       "      <td>armenia</td>\n",
       "      <td>29800</td>\n",
       "      <td>2976372</td>\n",
       "      <td>98,6</td>\n",
       "      <td>armenia</td>\n",
       "      <td>4.6768</td>\n",
       "      <td>0.757479</td>\n",
       "      <td>66.750656</td>\n",
       "      <td>0.712018</td>\n",
       "      <td>-0.138780</td>\n",
       "      <td>0.773545</td>\n",
       "      <td>Commonwealth of Independent States</td>\n",
       "    </tr>\n",
       "  </tbody>\n",
       "</table>\n",
       "</div>"
      ],
      "text/plain": [
       "  country_name     area  population literacy      country  happiness_score  \\\n",
       "0  afghanistan   647500    31056997     36,0  afghanistan           2.5669   \n",
       "1      albania    28748     3581655     86,5      albania           4.8827   \n",
       "2      algeria  2381740    32930091     70,0      algeria           5.0051   \n",
       "3    argentina  2766890    39921833     97,1    argentina           5.9747   \n",
       "4      armenia    29800     2976372     98,6      armenia           4.6768   \n",
       "\n",
       "   social_support  healthy_life_expectancy  freedom_of_choices  generosity  \\\n",
       "0        0.470367                52.590000            0.396573   -0.096429   \n",
       "1        0.671070                68.708138            0.781994   -0.042309   \n",
       "2        0.803385                65.905174            0.466611   -0.121105   \n",
       "3        0.900568                68.803802            0.831132   -0.194914   \n",
       "4        0.757479                66.750656            0.712018   -0.138780   \n",
       "\n",
       "   perception_of_corruption                        world_region  \n",
       "0                  0.933687                          South Asia  \n",
       "1                  0.896304          Central and Eastern Europe  \n",
       "2                  0.735485        Middle East and North Africa  \n",
       "3                  0.842010         Latin America and Caribbean  \n",
       "4                  0.773545  Commonwealth of Independent States  "
      ]
     },
     "execution_count": 5,
     "metadata": {},
     "output_type": "execute_result"
    }
   ],
   "source": [
    "\n",
    "country_features=pd.merge(countries,happiness.assign(country=happiness['country'].str.lower()), left_on='country_name', right_on='country')\n",
    "country_features.head()\n",
    "#on peut aussi utiliser la fonction join de pandas pour faire la jointure entre les deux dataframes (et ducou ya plus le problème des majustules, parce que ca colle les deux dataframes sur les index)"
   ]
  },
  {
   "cell_type": "markdown",
   "metadata": {},
   "source": [
    "## Task 3: Where are people happier?\n",
    "\n",
    "Print the top 10 countries based on their happiness score (higher is better)."
   ]
  },
  {
   "cell_type": "code",
   "execution_count": 6,
   "metadata": {},
   "outputs": [
    {
     "data": {
      "text/html": [
       "<div>\n",
       "<style scoped>\n",
       "    .dataframe tbody tr th:only-of-type {\n",
       "        vertical-align: middle;\n",
       "    }\n",
       "\n",
       "    .dataframe tbody tr th {\n",
       "        vertical-align: top;\n",
       "    }\n",
       "\n",
       "    .dataframe thead th {\n",
       "        text-align: right;\n",
       "    }\n",
       "</style>\n",
       "<table border=\"1\" class=\"dataframe\">\n",
       "  <thead>\n",
       "    <tr style=\"text-align: right;\">\n",
       "      <th></th>\n",
       "      <th>country_name</th>\n",
       "      <th>area</th>\n",
       "      <th>population</th>\n",
       "      <th>literacy</th>\n",
       "      <th>country</th>\n",
       "      <th>happiness_score</th>\n",
       "      <th>social_support</th>\n",
       "      <th>healthy_life_expectancy</th>\n",
       "      <th>freedom_of_choices</th>\n",
       "      <th>generosity</th>\n",
       "      <th>perception_of_corruption</th>\n",
       "      <th>world_region</th>\n",
       "    </tr>\n",
       "  </thead>\n",
       "  <tbody>\n",
       "    <tr>\n",
       "      <th>38</th>\n",
       "      <td>finland</td>\n",
       "      <td>338145</td>\n",
       "      <td>5231372</td>\n",
       "      <td>100,0</td>\n",
       "      <td>finland</td>\n",
       "      <td>7.8087</td>\n",
       "      <td>0.954330</td>\n",
       "      <td>71.900825</td>\n",
       "      <td>0.949172</td>\n",
       "      <td>-0.059482</td>\n",
       "      <td>0.195445</td>\n",
       "      <td>Western Europe</td>\n",
       "    </tr>\n",
       "    <tr>\n",
       "      <th>31</th>\n",
       "      <td>denmark</td>\n",
       "      <td>43094</td>\n",
       "      <td>5450661</td>\n",
       "      <td>100,0</td>\n",
       "      <td>denmark</td>\n",
       "      <td>7.6456</td>\n",
       "      <td>0.955991</td>\n",
       "      <td>72.402504</td>\n",
       "      <td>0.951444</td>\n",
       "      <td>0.066202</td>\n",
       "      <td>0.168489</td>\n",
       "      <td>Western Europe</td>\n",
       "    </tr>\n",
       "    <tr>\n",
       "      <th>115</th>\n",
       "      <td>switzerland</td>\n",
       "      <td>41290</td>\n",
       "      <td>7523934</td>\n",
       "      <td>99,0</td>\n",
       "      <td>switzerland</td>\n",
       "      <td>7.5599</td>\n",
       "      <td>0.942847</td>\n",
       "      <td>74.102448</td>\n",
       "      <td>0.921337</td>\n",
       "      <td>0.105911</td>\n",
       "      <td>0.303728</td>\n",
       "      <td>Western Europe</td>\n",
       "    </tr>\n",
       "    <tr>\n",
       "      <th>50</th>\n",
       "      <td>iceland</td>\n",
       "      <td>103000</td>\n",
       "      <td>299388</td>\n",
       "      <td>99,9</td>\n",
       "      <td>iceland</td>\n",
       "      <td>7.5045</td>\n",
       "      <td>0.974670</td>\n",
       "      <td>73.000000</td>\n",
       "      <td>0.948892</td>\n",
       "      <td>0.246944</td>\n",
       "      <td>0.711710</td>\n",
       "      <td>Western Europe</td>\n",
       "    </tr>\n",
       "    <tr>\n",
       "      <th>92</th>\n",
       "      <td>norway</td>\n",
       "      <td>323802</td>\n",
       "      <td>4610820</td>\n",
       "      <td>100,0</td>\n",
       "      <td>norway</td>\n",
       "      <td>7.4880</td>\n",
       "      <td>0.952487</td>\n",
       "      <td>73.200783</td>\n",
       "      <td>0.955750</td>\n",
       "      <td>0.134533</td>\n",
       "      <td>0.263218</td>\n",
       "      <td>Western Europe</td>\n",
       "    </tr>\n",
       "    <tr>\n",
       "      <th>87</th>\n",
       "      <td>netherlands</td>\n",
       "      <td>41526</td>\n",
       "      <td>16491461</td>\n",
       "      <td>99,0</td>\n",
       "      <td>netherlands</td>\n",
       "      <td>7.4489</td>\n",
       "      <td>0.939139</td>\n",
       "      <td>72.300919</td>\n",
       "      <td>0.908548</td>\n",
       "      <td>0.207612</td>\n",
       "      <td>0.364717</td>\n",
       "      <td>Western Europe</td>\n",
       "    </tr>\n",
       "    <tr>\n",
       "      <th>114</th>\n",
       "      <td>sweden</td>\n",
       "      <td>449964</td>\n",
       "      <td>9016596</td>\n",
       "      <td>99,0</td>\n",
       "      <td>sweden</td>\n",
       "      <td>7.3535</td>\n",
       "      <td>0.926311</td>\n",
       "      <td>72.600769</td>\n",
       "      <td>0.939144</td>\n",
       "      <td>0.111615</td>\n",
       "      <td>0.250880</td>\n",
       "      <td>Western Europe</td>\n",
       "    </tr>\n",
       "    <tr>\n",
       "      <th>88</th>\n",
       "      <td>new zealand</td>\n",
       "      <td>268680</td>\n",
       "      <td>4076140</td>\n",
       "      <td>99,0</td>\n",
       "      <td>new zealand</td>\n",
       "      <td>7.2996</td>\n",
       "      <td>0.949119</td>\n",
       "      <td>73.202629</td>\n",
       "      <td>0.936217</td>\n",
       "      <td>0.191598</td>\n",
       "      <td>0.221139</td>\n",
       "      <td>North America and ANZ</td>\n",
       "    </tr>\n",
       "    <tr>\n",
       "      <th>6</th>\n",
       "      <td>austria</td>\n",
       "      <td>83870</td>\n",
       "      <td>8192880</td>\n",
       "      <td>98,0</td>\n",
       "      <td>austria</td>\n",
       "      <td>7.2942</td>\n",
       "      <td>0.928046</td>\n",
       "      <td>73.002502</td>\n",
       "      <td>0.899989</td>\n",
       "      <td>0.085429</td>\n",
       "      <td>0.499955</td>\n",
       "      <td>Western Europe</td>\n",
       "    </tr>\n",
       "    <tr>\n",
       "      <th>72</th>\n",
       "      <td>luxembourg</td>\n",
       "      <td>2586</td>\n",
       "      <td>474413</td>\n",
       "      <td>100,0</td>\n",
       "      <td>luxembourg</td>\n",
       "      <td>7.2375</td>\n",
       "      <td>0.906912</td>\n",
       "      <td>72.599998</td>\n",
       "      <td>0.905636</td>\n",
       "      <td>-0.004621</td>\n",
       "      <td>0.367084</td>\n",
       "      <td>Western Europe</td>\n",
       "    </tr>\n",
       "  </tbody>\n",
       "</table>\n",
       "</div>"
      ],
      "text/plain": [
       "    country_name    area  population literacy      country  happiness_score  \\\n",
       "38       finland  338145     5231372    100,0      finland           7.8087   \n",
       "31       denmark   43094     5450661    100,0      denmark           7.6456   \n",
       "115  switzerland   41290     7523934     99,0  switzerland           7.5599   \n",
       "50       iceland  103000      299388     99,9      iceland           7.5045   \n",
       "92        norway  323802     4610820    100,0       norway           7.4880   \n",
       "87   netherlands   41526    16491461     99,0  netherlands           7.4489   \n",
       "114       sweden  449964     9016596     99,0       sweden           7.3535   \n",
       "88   new zealand  268680     4076140     99,0  new zealand           7.2996   \n",
       "6        austria   83870     8192880     98,0      austria           7.2942   \n",
       "72    luxembourg    2586      474413    100,0   luxembourg           7.2375   \n",
       "\n",
       "     social_support  healthy_life_expectancy  freedom_of_choices  generosity  \\\n",
       "38         0.954330                71.900825            0.949172   -0.059482   \n",
       "31         0.955991                72.402504            0.951444    0.066202   \n",
       "115        0.942847                74.102448            0.921337    0.105911   \n",
       "50         0.974670                73.000000            0.948892    0.246944   \n",
       "92         0.952487                73.200783            0.955750    0.134533   \n",
       "87         0.939139                72.300919            0.908548    0.207612   \n",
       "114        0.926311                72.600769            0.939144    0.111615   \n",
       "88         0.949119                73.202629            0.936217    0.191598   \n",
       "6          0.928046                73.002502            0.899989    0.085429   \n",
       "72         0.906912                72.599998            0.905636   -0.004621   \n",
       "\n",
       "     perception_of_corruption           world_region  \n",
       "38                   0.195445         Western Europe  \n",
       "31                   0.168489         Western Europe  \n",
       "115                  0.303728         Western Europe  \n",
       "50                   0.711710         Western Europe  \n",
       "92                   0.263218         Western Europe  \n",
       "87                   0.364717         Western Europe  \n",
       "114                  0.250880         Western Europe  \n",
       "88                   0.221139  North America and ANZ  \n",
       "6                    0.499955         Western Europe  \n",
       "72                   0.367084         Western Europe  "
      ]
     },
     "execution_count": 6,
     "metadata": {},
     "output_type": "execute_result"
    }
   ],
   "source": [
    "# Sort by hapinness\n",
    "country_features.sort_values(by='happiness_score', ascending=False, inplace=True)\n",
    "country_features.head(10)"
   ]
  },
  {
   "cell_type": "markdown",
   "metadata": {},
   "source": [
    "We are interested to know in what world region people are happier. \n",
    "\n",
    "Create and print a dataframe with the (1) average happiness score and (2) the number of contries for each world region.\n",
    "Sort the result to show the happiness ranking."
   ]
  },
  {
   "cell_type": "code",
   "execution_count": 7,
   "metadata": {},
   "outputs": [
    {
     "name": "stdout",
     "output_type": "stream",
     "text": [
      "                                    average_happiness_score  \\\n",
      "world_region                                                  \n",
      "North America and ANZ                              7.173525   \n",
      "Western Europe                                     6.967405   \n",
      "Latin America and Caribbean                        5.971280   \n",
      "Central and Eastern Europe                         5.891393   \n",
      "Southeast Asia                                     5.517788   \n",
      "East Asia                                          5.483633   \n",
      "Commonwealth of Independent States                 5.358342   \n",
      "Middle East and North Africa                       5.269306   \n",
      "Sub-Saharan Africa                                 4.393856   \n",
      "South Asia                                         4.355083   \n",
      "\n",
      "                                    number_of_countries  \n",
      "world_region                                             \n",
      "North America and ANZ                                 4  \n",
      "Western Europe                                       20  \n",
      "Latin America and Caribbean                          20  \n",
      "Central and Eastern Europe                           14  \n",
      "Southeast Asia                                        8  \n",
      "East Asia                                             3  \n",
      "Commonwealth of Independent States                   12  \n",
      "Middle East and North Africa                         16  \n",
      "Sub-Saharan Africa                                   32  \n",
      "South Asia                                            6  \n"
     ]
    }
   ],
   "source": [
    "# Calculate average happiness score and number of countries for each world region\n",
    "region_happiness = country_features.groupby('world_region').agg(\n",
    "    average_happiness_score=('happiness_score', 'mean'),\n",
    "    number_of_countries=('country_name', 'count')\n",
    ").sort_values(by='average_happiness_score', ascending=False)\n",
    "\n",
    "print(region_happiness)\n"
   ]
  },
  {
   "cell_type": "markdown",
   "metadata": {},
   "source": [
    "The first region has only a few countries! What are them and what is their score?"
   ]
  },
  {
   "cell_type": "code",
   "execution_count": 21,
   "metadata": {},
   "outputs": [
    {
     "name": "stdout",
     "output_type": "stream",
     "text": [
      "      country_name  happiness_score\n",
      "88     new zealand           7.2996\n",
      "21          canada           7.2321\n",
      "5        australia           7.2228\n",
      "127  united states           6.9396\n"
     ]
    }
   ],
   "source": [
    "# Print the countries of the first average world happiest region\n",
    "happiest_region = region_happiness.index[0]\n",
    "happiest_countries = country_features[country_features['world_region'] == happiest_region][['country_name', 'happiness_score']]\n",
    "print(happiest_countries)"
   ]
  },
  {
   "cell_type": "markdown",
   "metadata": {},
   "source": [
    "## Task 4: How literate is the world?\n",
    "\n",
    "Print the names of the countries with a level of literacy of 100%. \n",
    "\n",
    "For each country, print the name and the world region in the format: *{region name} - {country name} ({happiness score})*"
   ]
  },
  {
   "cell_type": "code",
   "execution_count": 36,
   "metadata": {},
   "outputs": [
    {
     "name": "stdout",
     "output_type": "stream",
     "text": [
      "Western Europe - finland (7.808700085)\n",
      "Western Europe - denmark (7.645599842)\n",
      "Western Europe - norway (7.487999916000001)\n",
      "Western Europe - luxembourg (7.237500191)\n",
      "North America and ANZ - australia (7.222799778)\n"
     ]
    }
   ],
   "source": [
    "# Filter countries with 100% literacy\n",
    "countries_lit_100 = country_features[country_features['literacy'] == '100,0']\n",
    "\n",
    "# Print the names in the specified format\n",
    "for index, row in countries_lit_100.iterrows():\n",
    "    print(f\"{row['world_region']} - {row['country_name']} ({row['happiness_score']})\")\n",
    "\n",
    "#Partie pour comprendre ce qu'est iterrows\n",
    "  #[index,row]=next(countries_lit_100.iterrows())\n",
    "  #print(index)\n",
    "  #print(row)"
   ]
  },
  {
   "cell_type": "markdown",
   "metadata": {},
   "source": [
    "What is the global average?"
   ]
  },
  {
   "cell_type": "code",
   "execution_count": 37,
   "metadata": {},
   "outputs": [
    {
     "name": "stdout",
     "output_type": "stream",
     "text": [
      "Global average literacy rate: 81.85%\n"
     ]
    }
   ],
   "source": [
    "# Convert literacy column to float\n",
    "country_features['literacy'] = country_features['literacy'].str.replace(',', '.').astype(float)\n",
    "\n",
    "# Calculate the global average literacy rate\n",
    "global_literacy_average = country_features['literacy'].mean()\n",
    "print(f\"Global average literacy rate: {global_literacy_average:.2f}%\")"
   ]
  },
  {
   "cell_type": "markdown",
   "metadata": {},
   "source": [
    "Calculate the proportion of countries with a literacy level below 50%. Print the value in percentage, formatted with 2 decimals."
   ]
  },
  {
   "cell_type": "code",
   "execution_count": 41,
   "metadata": {},
   "outputs": [
    {
     "name": "stdout",
     "output_type": "stream",
     "text": [
      "Proporition of countries with a literacy rate under 50%: 11.85%\n"
     ]
    }
   ],
   "source": [
    "per_country_literacy_u50=len(country_features[country_features['literacy']<50])/len(country_features)*100\n",
    "print(f\"Proporition of countries with a literacy rate under 50%: {per_country_literacy_u50:.2f}%\")"
   ]
  },
  {
   "cell_type": "markdown",
   "metadata": {},
   "source": [
    "Print the raw number and the percentage of world population that is illiterate."
   ]
  },
  {
   "cell_type": "code",
   "execution_count": 48,
   "metadata": {
    "vscode": {
     "languageId": "ruby"
    }
   },
   "outputs": [
    {
     "name": "stdout",
     "output_type": "stream",
     "text": [
      "Total world population: 6145475101\n",
      "Raw number of illiterate population: 1249372988.1029997\n",
      "Percentage of world population that is illiterate: 20.33%\n"
     ]
    }
   ],
   "source": [
    "# Calculate the total world population\n",
    "total_world_population = country_features['population'].sum()\n",
    "\n",
    "# Calculate the total illiterate population\n",
    "country_features['illiterate_population'] = country_features.apply(lambda x: x['population'] * (100-x['literacy']) / 100, axis=1)\n",
    "illiterate_population = country_features['illiterate_population'].sum()\n",
    "\n",
    "# Calculate the percentage of the world population that is illiterate\n",
    "illiterate_population_percentage = (illiterate_population / total_world_population) * 100\n",
    "\n",
    "# Print the results\n",
    "print(f\"Total world population: {total_world_population}\")\n",
    "print(f\"Raw number of illiterate population: {illiterate_population}\")\n",
    "print(f\"Percentage of world population that is illiterate: {illiterate_population_percentage:.2f}%\")\n"
   ]
  },
  {
   "cell_type": "markdown",
   "metadata": {},
   "source": [
    "## Task 5: Population density\n",
    "\n",
    "Add to the dataframe a new field called *population_density* computed by dividing *population* by *area*."
   ]
  },
  {
   "cell_type": "code",
   "execution_count": 51,
   "metadata": {},
   "outputs": [
    {
     "name": "stdout",
     "output_type": "stream",
     "text": [
      "    country_name  population_density\n",
      "38       finland           15.470795\n",
      "31       denmark          126.483060\n",
      "115  switzerland          182.221700\n",
      "50       iceland            2.906680\n",
      "92        norway           14.239628\n"
     ]
    }
   ],
   "source": [
    "#Calculate the population density for each country\n",
    "country_features['population_density'] = country_features['population'] / country_features['area']\n",
    "print(country_features[['country_name', 'population_density']].head())"
   ]
  },
  {
   "cell_type": "markdown",
   "metadata": {},
   "source": [
    "What is the happiness score of the 3 countries with the lowest population density?"
   ]
  },
  {
   "cell_type": "code",
   "execution_count": 50,
   "metadata": {},
   "outputs": [
    {
     "name": "stdout",
     "output_type": "stream",
     "text": [
      "    country_name  population_density  happiness_score\n",
      "107    singapore         6482.178932           6.3771\n",
      "78         malta         1266.500000           6.7728\n",
      "8        bahrain         1050.503759           6.2273\n"
     ]
    }
   ],
   "source": [
    "# Happines of the 3 most densly populated countries\n",
    "top3_dense = country_features.sort_values(by='population_density', ascending=False).head(3)\n",
    "print(top3_dense[['country_name', 'population_density', 'happiness_score']])"
   ]
  },
  {
   "cell_type": "markdown",
   "metadata": {},
   "source": [
    "## Task 6: Healty and happy?\n",
    "\n",
    "Plot in a scatter plot the happiness score (x) and healty life expectancy (y)."
   ]
  },
  {
   "cell_type": "code",
   "execution_count": 53,
   "metadata": {},
   "outputs": [
    {
     "data": {
      "text/plain": [
       "<Axes: title={'center': 'Happiness vs Healthy life expectancy'}, xlabel='happiness_score', ylabel='healthy_life_expectancy'>"
      ]
     },
     "execution_count": 53,
     "metadata": {},
     "output_type": "execute_result"
    },
    {
     "data": {
      "image/png": "[encoded data removed]",
      "text/plain": [
       "<Figure size 640x480 with 1 Axes>"
      ]
     },
     "metadata": {},
     "output_type": "display_data"
    }
   ],
   "source": [
    "# Plot a scatter plot of happiness_score vs healthy life expectancy\n",
    "country_features.plot.scatter(x='happiness_score', y='healthy_life_expectancy', title='Happiness vs Healthy life expectancy')"
   ]
  },
  {
   "cell_type": "markdown",
   "metadata": {},
   "source": [
    "Feel free to continue the exploration of the dataset! We'll release the solutions next week.\n",
    "\n",
    "----\n",
    "Enjoy EPFL and be happy, next year Switzerland must be #1."
   ]
  }
 ],
 "metadata": {
  "kernelspec": {
   "display_name": "Python 3 (ipykernel)",
   "language": "python",
   "name": "python3"
  },
  "language_info": {
   "codemirror_mode": {
    "name": "ipython",
    "version": 3
   },
   "file_extension": ".py",
   "mimetype": "text/x-python",
   "name": "python",
   "nbconvert_exporter": "python",
   "pygments_lexer": "ipython3",
   "version": "3.11.9"
  }
 },
 "nbformat": 4,
 "nbformat_minor": 4
}
